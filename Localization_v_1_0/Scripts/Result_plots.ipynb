{
 "cells": [
  {
   "cell_type": "code",
   "execution_count": 1,
   "metadata": {
    "collapsed": true,
    "pycharm": {
     "is_executing": false
    }
   },
   "outputs": [],
   "source": [
    "import numpy as np\n",
    "import matplotlib.pyplot as plt\n",
    "import pandas as pd\n",
    "import sys\n",
    "from sklearn.preprocessing import PolynomialFeatures\n",
    "from sklearn.linear_model import LinearRegression\n",
    "from sklearn.model_selection import train_test_split\n",
    "from sklearn.metrics import mean_absolute_error\n",
    "\n",
    "testSet = []\n",
    "testCoords = []"
   ]
  },
  {
   "cell_type": "code",
   "execution_count": 4,
   "outputs": [],
   "source": [
    "\n",
    "def evaluate_individual_performances(outputPath, trainSetCoordsPath, testSetCoordsPath, aruco, train_test_data):\n",
    "\n",
    "    global testSet, testCoords\n",
    "    # aruco = np.array(aruco)\n",
    "    # m_id = str(aruco[0])\n",
    "    m_id = aruco\n",
    "    # Regression Degree\n",
    "    DEG = 2\n",
    "\n",
    "    # Train Set\n",
    "    # Slow Feature Values\n",
    "    trainSetPath = outputPath + '/Evaluation_Arrays/' + 'train_'+m_id+'_slowFeatures.npy'\n",
    "\n",
    "    # Marker detection results\n",
    "    detectionResultsTrainSetPath = outputPath + '/' + 'result_train.csv'\n",
    "\n",
    "    # Load Files\n",
    "    trainSet = np.load(trainSetPath)\n",
    "    trainSetCoords = np.loadtxt(trainSetCoordsPath, delimiter=',', usecols=(4, 5))\n",
    "    # trainSetCoords = np.loadtxt(trainSetCoordsPath)[:, 0:2]\n",
    "    detectionResultsTrainSet = pd.read_csv(detectionResultsTrainSetPath)\n",
    "\n",
    "    markerSquaresTrainSet = detectionResultsTrainSet[\n",
    "        [m_id + '_bb_x1', m_id + '_bb_y1', m_id + '_bb_x2', m_id + '_bb_y2', m_id + '_bb_x3', m_id + '_bb_y3', m_id +\n",
    "         '_bb_x4', m_id + '_bb_y4']].values\n",
    "\n",
    "    # Keep only the coordinates with valid marker detection (Train/Test Set)\n",
    "    trainCoords = []\n",
    "    for i in range(trainSetCoords.shape[0]):\n",
    "        if markerSquaresTrainSet[i].sum() != 0:\n",
    "            trainCoords.append(trainSetCoords[i, :])\n",
    "    trainCoords = np.array(trainCoords)\n",
    "\n",
    "    print(\"\\nActual coordinates\\n \")\n",
    "    print(\"Train Set: (%d,%d) \" % trainSetCoords.shape)\n",
    "    print(\"Train Set after marker detection: (%d,%d) \" % trainCoords.shape)\n",
    "\n",
    "    # Test set\n",
    "    if train_test_data:\n",
    "        testSetPath = outputPath + '/Evaluation_Arrays/' + 'test_'+m_id+'_slowFeatures.npy'\n",
    "        detectionResultsTestSetPath = outputPath + '/' + 'result_test.csv'\n",
    "        testSet = np.load(testSetPath)\n",
    "        testSetCoords = np.loadtxt(testSetCoordsPath, delimiter=',', usecols=(4, 5))\n",
    "        # testSetCoords = np.loadtxt(testSetCoordsPath)[:, 0:2]\n",
    "        detectionResultsTestSet = pd.read_csv(detectionResultsTestSetPath)\n",
    "        markerSquaresTestSet = detectionResultsTestSet[\n",
    "            [m_id + '_bb_x1', m_id + '_bb_y1', m_id + '_bb_x2', m_id + '_bb_y2', m_id + '_bb_x3', m_id + '_bb_y3',\n",
    "             m_id +\n",
    "             '_bb_x4', m_id + '_bb_y4']].values\n",
    "        testCoords = []\n",
    "        for i in range(testSetCoords.shape[0]):\n",
    "            if markerSquaresTestSet[i].sum() != 0:\n",
    "                testCoords.append(testSetCoords[i, :])\n",
    "        testCoords = np.array(testCoords)\n",
    "        print(\"Test Set: (%d,%d) \" % testSetCoords.shape)\n",
    "        print(\"Test Set  after marker detection: (%d,%d) \" % testCoords.shape)\n",
    "\n",
    "    # Perform Regression\n",
    "    #####################################################\n",
    "    polyRegressor = PolynomialFeatures(degree=DEG)\n",
    "    fig, ax = plt.subplots()\n",
    "\n",
    "    if train_test_data:\n",
    "        polyFeatureTrainingSet = polyRegressor.fit_transform(trainSet)\n",
    "        polyFeaturesTestSet = polyRegressor.fit_transform(testSet)\n",
    "\n",
    "        regressor_x = LinearRegression()\n",
    "        regressor_x.fit(polyFeatureTrainingSet, trainCoords[:, 0])  # x-coordinates\n",
    "\n",
    "        regressor_y = LinearRegression()\n",
    "        regressor_y.fit(polyFeatureTrainingSet, trainCoords[:, 1])  # y-coordinates\n",
    "\n",
    "        predicted_X = regressor_x.predict(polyFeaturesTestSet)\n",
    "        predicted_Y = regressor_y.predict(polyFeaturesTestSet)\n",
    "\n",
    "        prediction_X = predicted_X.reshape(predicted_X.shape[0], 1)\n",
    "        prediction_Y = predicted_Y.reshape(predicted_Y.shape[0], 1)\n",
    "        predictedCoordinates = np.hstack([prediction_X, prediction_Y])\n",
    "        # Calculate Error\n",
    "        ######################################################\n",
    "        MAE = mean_absolute_error(testCoords, predictedCoordinates)\n",
    "        print(\"\\nMean Absolute Error: %f [m]\\n\" % MAE)\n",
    "        # Visualize\n",
    "        ######################################################\n",
    "        ax.plot(testCoords[:, 0], testCoords[:, 1], 'b.', lw=1, label='Ground truth')\n",
    "        ax.plot(prediction_X, prediction_Y, 'r.', lw=1, label='Estimation')\n",
    "\n",
    "    else:\n",
    "        polyFeatureTrainingSet = polyRegressor.fit_transform(trainSet)\n",
    "        # polyFeaturesTestSet = polyRegressor.fit_transform(testSet)\n",
    "\n",
    "        X_train, X_test, y_train, y_test = train_test_split(polyFeatureTrainingSet, trainCoords, test_size=0.33,\n",
    "                                                            random_state=42)\n",
    "\n",
    "        regressor_x = LinearRegression()\n",
    "        regressor_x.fit(X_train, y_train[:, 0])  # x-coordinates\n",
    "\n",
    "        regressor_y = LinearRegression()\n",
    "        regressor_y.fit(X_train, y_train[:, 1])  # y-coordinates\n",
    "\n",
    "        predicted_X = regressor_x.predict(X_test)\n",
    "        predicted_Y = regressor_y.predict(X_test)\n",
    "\n",
    "        prediction_X = predicted_X.reshape(predicted_X.shape[0], 1)\n",
    "        prediction_Y = predicted_Y.reshape(predicted_Y.shape[0], 1)\n",
    "        predictedCoordinates = np.hstack([prediction_X, prediction_Y])\n",
    "\n",
    "        MAE = mean_absolute_error(y_test, predictedCoordinates)\n",
    "        print(\"\\nMean Absolute Error: %f [m]\\n\" % MAE)\n",
    "\n",
    "        ax.plot(y_test[:, 0], y_test[:, 1], 'b.', lw=1, label='Ground truth')\n",
    "        ax.plot(prediction_X, prediction_Y, 'r.', lw=1, label='Estimation')\n",
    "\n",
    "    plt.title('Mean Absolute Error: ' + \"{:.2f}\".format(MAE), fontweight='bold')\n",
    "    legend = ax.legend(loc='lower right', shadow=True)\n",
    "    plt.xlabel('X [m]', fontsize=16)\n",
    "    plt.ylabel('Y [m]', fontsize=16)\n",
    "    plt.tick_params(top='off', bottom='on', left='on', right='off', labelleft='on', labelbottom='on')\n",
    "    plt.rc('font', weight='bold')\n",
    "    plt.rc('legend', **{'fontsize': 8})\n",
    "    plt.gca().set_aspect('equal', adjustable='box')\n",
    "    plt.tick_params(labelsize=12)\n",
    "    plt.savefig(outputPath + '/' + 'marker_'+m_id+'_result.jpg', dpi=1200, bbox_inches='tight')  # Save?\n",
    "    plt.show()\n",
    "\n"
   ],
   "metadata": {
    "collapsed": false,
    "pycharm": {
     "name": "#%%\n",
     "is_executing": false
    }
   }
  },
  {
   "cell_type": "code",
   "execution_count": 7,
   "outputs": [],
   "source": [
    "outputPath = '/hri/localdisk/ThesisProject/Kaushik/Kaushik/Testing_Sample_Script/06032020-163049/'\n",
    "trainSetCoordsPath = '/hri/localdisk/ThesisProject/Kaushik/Kaushik/Testing_Sample_Script/06032020-163049/coordinates_train.txt'\n",
    "testSetCoordsPath = '/hri/localdisk/ThesisProject/Kaushik/Kaushik/Testing_Sample_Script/06032020-163049/coordinates_test.txt'\n",
    "aruco = '160'\n",
    "train_test_data = True"
   ],
   "metadata": {
    "collapsed": false,
    "pycharm": {
     "name": "#%%\n",
     "is_executing": false
    }
   }
  },
  {
   "cell_type": "code",
   "execution_count": 8,
   "outputs": [
    {
     "name": "stdout",
     "text": [
      "\n",
      "Actual coordinates\n",
      " \n",
      "Train Set: (1282,2) \n",
      "Train Set after marker detection: (1090,2) \n",
      "Test Set: (906,2) \n",
      "Test Set  after marker detection: (848,2) \n",
      "\n",
      "Mean Absolute Error: 0.636446 [m]\n",
      "\n"
     ],
     "output_type": "stream"
    },
    {
     "data": {
      "text/plain": "<Figure size 432x288 with 1 Axes>",
      "image/png": "[encoded data removed]"
     },
     "metadata": {
      "needs_background": "light"
     },
     "output_type": "display_data"
    }
   ],
   "source": [
    "\n",
    "evaluate_individual_performances(outputPath, trainSetCoordsPath, testSetCoordsPath, aruco, train_test_data)"
   ],
   "metadata": {
    "collapsed": false,
    "pycharm": {
     "name": "#%%\n",
     "is_executing": false
    }
   }
  },
  {
   "cell_type": "code",
   "execution_count": null,
   "outputs": [],
   "source": [
    "\n"
   ],
   "metadata": {
    "collapsed": false,
    "pycharm": {
     "name": "#%%\n"
    }
   }
  }
 ],
 "metadata": {
  "kernelspec": {
   "display_name": "Python 3",
   "language": "python",
   "name": "python3"
  },
  "language_info": {
   "codemirror_mode": {
    "name": "ipython",
    "version": 2
   },
   "file_extension": ".py",
   "mimetype": "text/x-python",
   "name": "python",
   "nbconvert_exporter": "python",
   "pygments_lexer": "ipython2",
   "version": "2.7.6"
  },
  "pycharm": {
   "stem_cell": {
    "cell_type": "raw",
    "source": [],
    "metadata": {
     "collapsed": false
    }
   }
  }
 },
 "nbformat": 4,
 "nbformat_minor": 0
}